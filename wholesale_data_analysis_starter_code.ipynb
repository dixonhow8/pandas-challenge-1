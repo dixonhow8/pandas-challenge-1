{
 "cells": [
  {
   "cell_type": "markdown",
   "id": "dc0318d6",
   "metadata": {},
   "source": [
    "## Part 1: Explore the Data\n",
    "\n",
    "Import the data and use Pandas to learn more about the dataset."
   ]
  },
  {
   "cell_type": "code",
   "execution_count": 78,
   "id": "e076f57f",
   "metadata": {},
   "outputs": [
    {
     "data": {
      "text/html": [
       "<div>\n",
       "<style scoped>\n",
       "    .dataframe tbody tr th:only-of-type {\n",
       "        vertical-align: middle;\n",
       "    }\n",
       "\n",
       "    .dataframe tbody tr th {\n",
       "        vertical-align: top;\n",
       "    }\n",
       "\n",
       "    .dataframe thead th {\n",
       "        text-align: right;\n",
       "    }\n",
       "</style>\n",
       "<table border=\"1\" class=\"dataframe\">\n",
       "  <thead>\n",
       "    <tr style=\"text-align: right;\">\n",
       "      <th></th>\n",
       "      <th>first</th>\n",
       "      <th>last</th>\n",
       "      <th>job</th>\n",
       "      <th>phone</th>\n",
       "      <th>email</th>\n",
       "      <th>client_id</th>\n",
       "      <th>order_id</th>\n",
       "      <th>order_date</th>\n",
       "      <th>order_week</th>\n",
       "      <th>order_year</th>\n",
       "      <th>item_id</th>\n",
       "      <th>category</th>\n",
       "      <th>subcategory</th>\n",
       "      <th>unit_price</th>\n",
       "      <th>unit_cost</th>\n",
       "      <th>unit_weight</th>\n",
       "      <th>qty</th>\n",
       "      <th>line_number</th>\n",
       "    </tr>\n",
       "  </thead>\n",
       "  <tbody>\n",
       "    <tr>\n",
       "      <th>0</th>\n",
       "      <td>Donald</td>\n",
       "      <td>Harding</td>\n",
       "      <td>Immunologist</td>\n",
       "      <td>793-904-7725x39308</td>\n",
       "      <td>harding.donald.7185@sullivan.com</td>\n",
       "      <td>58515</td>\n",
       "      <td>8953482</td>\n",
       "      <td>2023-04-28</td>\n",
       "      <td>17</td>\n",
       "      <td>2023</td>\n",
       "      <td>EUD29711-63-6U</td>\n",
       "      <td>decor</td>\n",
       "      <td>wall art</td>\n",
       "      <td>1096.80</td>\n",
       "      <td>762.71</td>\n",
       "      <td>7.50</td>\n",
       "      <td>105</td>\n",
       "      <td>1</td>\n",
       "    </tr>\n",
       "    <tr>\n",
       "      <th>1</th>\n",
       "      <td>Tiffany</td>\n",
       "      <td>Myers</td>\n",
       "      <td>Music therapist</td>\n",
       "      <td>201.442.4543x942</td>\n",
       "      <td>myers.t.6537@ferguson-johnson.net</td>\n",
       "      <td>37609</td>\n",
       "      <td>8069089</td>\n",
       "      <td>2023-05-19</td>\n",
       "      <td>20</td>\n",
       "      <td>2023</td>\n",
       "      <td>XDA18116-89-4A</td>\n",
       "      <td>consumables</td>\n",
       "      <td>pens</td>\n",
       "      <td>24.95</td>\n",
       "      <td>15.09</td>\n",
       "      <td>1.49</td>\n",
       "      <td>21</td>\n",
       "      <td>0</td>\n",
       "    </tr>\n",
       "    <tr>\n",
       "      <th>2</th>\n",
       "      <td>Shannon</td>\n",
       "      <td>Watson</td>\n",
       "      <td>Immunologist</td>\n",
       "      <td>687.737.9424x8503</td>\n",
       "      <td>swatson8146@payne.net</td>\n",
       "      <td>57113</td>\n",
       "      <td>1902144</td>\n",
       "      <td>2023-01-29</td>\n",
       "      <td>4</td>\n",
       "      <td>2023</td>\n",
       "      <td>ABE59463-05-7E</td>\n",
       "      <td>software</td>\n",
       "      <td>project management</td>\n",
       "      <td>13.52</td>\n",
       "      <td>7.86</td>\n",
       "      <td>1.68</td>\n",
       "      <td>39</td>\n",
       "      <td>6</td>\n",
       "    </tr>\n",
       "    <tr>\n",
       "      <th>3</th>\n",
       "      <td>Nathan</td>\n",
       "      <td>Baker</td>\n",
       "      <td>Accounting technician</td>\n",
       "      <td>827-788-8123x012</td>\n",
       "      <td>bakernathan@benson.com</td>\n",
       "      <td>46554</td>\n",
       "      <td>9031802</td>\n",
       "      <td>2023-04-25</td>\n",
       "      <td>17</td>\n",
       "      <td>2023</td>\n",
       "      <td>ZMM00836-65-0C</td>\n",
       "      <td>consumables</td>\n",
       "      <td>pens</td>\n",
       "      <td>36.42</td>\n",
       "      <td>24.85</td>\n",
       "      <td>1.23</td>\n",
       "      <td>29</td>\n",
       "      <td>3</td>\n",
       "    </tr>\n",
       "    <tr>\n",
       "      <th>4</th>\n",
       "      <td>Christina</td>\n",
       "      <td>Schwartz</td>\n",
       "      <td>Chiropractor</td>\n",
       "      <td>265-829-3643</td>\n",
       "      <td>christinaschwartz9252@mcconnell.com</td>\n",
       "      <td>92089</td>\n",
       "      <td>1322274</td>\n",
       "      <td>2023-05-28</td>\n",
       "      <td>21</td>\n",
       "      <td>2023</td>\n",
       "      <td>BZX55559-12-3X</td>\n",
       "      <td>consumables</td>\n",
       "      <td>misc</td>\n",
       "      <td>195.10</td>\n",
       "      <td>108.17</td>\n",
       "      <td>46.43</td>\n",
       "      <td>20</td>\n",
       "      <td>1</td>\n",
       "    </tr>\n",
       "  </tbody>\n",
       "</table>\n",
       "</div>"
      ],
      "text/plain": [
       "       first      last                    job               phone  \\\n",
       "0     Donald   Harding           Immunologist  793-904-7725x39308   \n",
       "1    Tiffany     Myers        Music therapist    201.442.4543x942   \n",
       "2    Shannon    Watson           Immunologist   687.737.9424x8503   \n",
       "3     Nathan     Baker  Accounting technician    827-788-8123x012   \n",
       "4  Christina  Schwartz           Chiropractor        265-829-3643   \n",
       "\n",
       "                                 email  client_id  order_id  order_date  \\\n",
       "0     harding.donald.7185@sullivan.com      58515   8953482  2023-04-28   \n",
       "1    myers.t.6537@ferguson-johnson.net      37609   8069089  2023-05-19   \n",
       "2                swatson8146@payne.net      57113   1902144  2023-01-29   \n",
       "3               bakernathan@benson.com      46554   9031802  2023-04-25   \n",
       "4  christinaschwartz9252@mcconnell.com      92089   1322274  2023-05-28   \n",
       "\n",
       "   order_week  order_year         item_id     category         subcategory  \\\n",
       "0          17        2023  EUD29711-63-6U        decor            wall art   \n",
       "1          20        2023  XDA18116-89-4A  consumables                pens   \n",
       "2           4        2023  ABE59463-05-7E     software  project management   \n",
       "3          17        2023  ZMM00836-65-0C  consumables                pens   \n",
       "4          21        2023  BZX55559-12-3X  consumables                misc   \n",
       "\n",
       "   unit_price  unit_cost  unit_weight  qty  line_number  \n",
       "0     1096.80     762.71         7.50  105            1  \n",
       "1       24.95      15.09         1.49   21            0  \n",
       "2       13.52       7.86         1.68   39            6  \n",
       "3       36.42      24.85         1.23   29            3  \n",
       "4      195.10     108.17        46.43   20            1  "
      ]
     },
     "execution_count": 78,
     "metadata": {},
     "output_type": "execute_result"
    }
   ],
   "source": [
    "import pandas as pd\n",
    "\n",
    "wholesale_df = pd.read_csv('../pandas-challenge-1/client_dataset.csv')\n",
    "wholesale_df.head()"
   ]
  },
  {
   "cell_type": "code",
   "execution_count": 79,
   "id": "71b9bbd2",
   "metadata": {},
   "outputs": [
    {
     "name": "stdout",
     "output_type": "stream",
     "text": [
      "['first', 'last', 'job', 'phone', 'email', 'client_id', 'order_id', 'order_date', 'order_week', 'order_year', 'item_id', 'category', 'subcategory', 'unit_price', 'unit_cost', 'unit_weight', 'qty', 'line_number']\n"
     ]
    }
   ],
   "source": [
    "# View the column names in the data\n",
    "column_names = wholesale_df.columns.tolist()\n",
    "\n",
    "print(column_names)"
   ]
  },
  {
   "cell_type": "code",
   "execution_count": 80,
   "id": "bc0f4172",
   "metadata": {},
   "outputs": [
    {
     "name": "stdout",
     "output_type": "stream",
     "text": [
      "          client_id      order_id    order_week    order_year    unit_price  \\\n",
      "count  54639.000000  5.463900e+04  54639.000000  54639.000000  54639.000000   \n",
      "mean   54837.869416  5.470190e+06     11.359139   2022.993064    136.267207   \n",
      "std    25487.438231  2.599807e+06      7.023499      0.082997    183.873135   \n",
      "min    10033.000000  1.000886e+06      1.000000   2022.000000      0.010000   \n",
      "25%    33593.000000  3.196372e+06      6.000000   2023.000000     20.800000   \n",
      "50%    53305.000000  5.496966e+06     11.000000   2023.000000     68.310000   \n",
      "75%    78498.000000  7.733869e+06     17.000000   2023.000000    173.160000   \n",
      "max    99984.000000  9.998480e+06     52.000000   2023.000000   1396.230000   \n",
      "\n",
      "          unit_cost   unit_weight           qty   line_number  \n",
      "count  54639.000000  54639.000000  5.463900e+04  54639.000000  \n",
      "mean      99.446073      5.004116  5.702646e+02      2.979667  \n",
      "std      133.164267      5.326599  1.879552e+04      2.436320  \n",
      "min        0.010000      0.000000  0.000000e+00      0.000000  \n",
      "25%       14.840000      1.450000  3.200000e+01      1.000000  \n",
      "50%       49.890000      3.240000  6.800000e+01      3.000000  \n",
      "75%      125.570000      6.890000  1.700000e+02      5.000000  \n",
      "max      846.270000     46.430000  3.958244e+06      9.000000  \n"
     ]
    }
   ],
   "source": [
    "# Use the describe function to gather some basic statistics\n",
    "description = wholesale_df.describe()\n",
    "\n",
    "print(description)"
   ]
  },
  {
   "cell_type": "code",
   "execution_count": 81,
   "id": "b24b53cc",
   "metadata": {},
   "outputs": [
    {
     "name": "stdout",
     "output_type": "stream",
     "text": [
      "(54639, 18)\n"
     ]
    }
   ],
   "source": [
    "# Use this space to do any additional research\n",
    "# and familiarize yourself with the data.\n",
    "#description = wholesale_df.describe(include='all')\n",
    "#print(description)\n",
    "\n",
    "shape = wholesale_df.shape\n",
    "\n",
    "print(shape)"
   ]
  },
  {
   "cell_type": "code",
   "execution_count": 82,
   "id": "3505c0c9",
   "metadata": {},
   "outputs": [
    {
     "name": "stdout",
     "output_type": "stream",
     "text": [
      "No columns have null values.\n"
     ]
    }
   ],
   "source": [
    "#To check for null values in any column\n",
    "columns_with_null = wholesale_df.columns[wholesale_df.isnull().any()].tolist()\n",
    "\n",
    "if columns_with_null:\n",
    "    print(\"Columns with null values:\")\n",
    "    for column in columns_with_null:\n",
    "        print(column)\n",
    "else:\n",
    "    print(\"No columns have null values.\")\n",
    "   "
   ]
  },
  {
   "cell_type": "code",
   "execution_count": 83,
   "id": "6d78a143",
   "metadata": {},
   "outputs": [
    {
     "name": "stdout",
     "output_type": "stream",
     "text": [
      "No columns have blanks.\n"
     ]
    }
   ],
   "source": [
    "#To check all columns for blanks\n",
    "\n",
    "# Replace empty strings with NaN values\n",
    "wholesale_df.replace('', pd.NA, inplace=True)\n",
    "\n",
    "# Check for NaN values in each column\n",
    "columns_with_blanks = wholesale_df.columns[wholesale_df.isnull().any()].tolist()\n",
    "\n",
    "if columns_with_blanks:\n",
    "    print(\"Columns with blanks:\")\n",
    "    for column in columns_with_blanks:\n",
    "        print(column)\n",
    "else:\n",
    "    print(\"No columns have blanks.\")\n"
   ]
  },
  {
   "cell_type": "code",
   "execution_count": 84,
   "id": "551cb358",
   "metadata": {},
   "outputs": [
    {
     "name": "stdout",
     "output_type": "stream",
     "text": [
      "category\n",
      "consumables    23538\n",
      "furniture      11915\n",
      "software        8400\n",
      "Name: count, dtype: int64\n"
     ]
    }
   ],
   "source": [
    "# What three item categories had the most entries?\n",
    "category_counts = wholesale_df['category'].value_counts()\n",
    "\n",
    "# Get the top 3 categories with the most entries\n",
    "top_3_categories = category_counts.head(3)\n",
    "\n",
    "print(top_3_categories)\n"
   ]
  },
  {
   "cell_type": "code",
   "execution_count": 85,
   "id": "5f54e2cf",
   "metadata": {},
   "outputs": [
    {
     "name": "stdout",
     "output_type": "stream",
     "text": [
      "The category with the most entries is: consumables\n",
      "The subcategory with the most entries within consumables is: bathroom supplies\n"
     ]
    }
   ],
   "source": [
    "# For the category with the most entries, which subcategory had the most entries?\n",
    "# Step 1: Identify the category with the most entries\n",
    "category_counts = wholesale_df['category'].value_counts()\n",
    "top_category = category_counts.idxmax()\n",
    "\n",
    "# Step 2: Filter the DataFrame to include only rows corresponding to the top category\n",
    "category_df = wholesale_df[wholesale_df['category'] == top_category]\n",
    "\n",
    "# Step 3: Identify the subcategory with the most entries within this filtered DataFrame\n",
    "subcategory_counts = category_df['subcategory'].value_counts()\n",
    "top_subcategory = subcategory_counts.idxmax()\n",
    "\n",
    "# Find the category with the most entries\n",
    "most_common_category = wholesale_df['category'].value_counts().idxmax()\n",
    "\n",
    "# Filter the DataFrame to only include rows with the most common category\n",
    "filtered_df = wholesale_df[wholesale_df['category'] == most_common_category]\n",
    "\n",
    "# Find the subcategory with the most entries within the most common category\n",
    "most_common_subcategory = filtered_df['subcategory'].value_counts().idxmax()\n",
    "\n",
    "print(f\"The category with the most entries is: {most_common_category}\")\n",
    "print(f\"The subcategory with the most entries within {most_common_category} is: {most_common_subcategory}\")\n"
   ]
  },
  {
   "cell_type": "code",
   "execution_count": 86,
   "id": "2db94379",
   "metadata": {},
   "outputs": [
    {
     "name": "stdout",
     "output_type": "stream",
     "text": [
      "The five client_ids with the most entries and their counts are:\n",
      "client_id\n",
      "33615    220\n",
      "66037    211\n",
      "46820    209\n",
      "38378    207\n",
      "24741    207\n",
      "Name: count, dtype: int64\n"
     ]
    }
   ],
   "source": [
    "# Which five clients had the most entries in the data?\n",
    "\n",
    "# Get the counts of each client_id\n",
    "client_id_counts = wholesale_df['client_id'].value_counts()\n",
    "\n",
    "# Get the top 5 client_ids with the most entries and their counts\n",
    "top_5_client_ids = client_id_counts.head(5)\n",
    "\n",
    "print(\"The five client_ids with the most entries and their counts are:\")\n",
    "print(top_5_client_ids)\n",
    "\n"
   ]
  },
  {
   "cell_type": "code",
   "execution_count": 87,
   "id": "a6635601",
   "metadata": {},
   "outputs": [
    {
     "name": "stdout",
     "output_type": "stream",
     "text": [
      "The list of the top 5 client_ids with the most entries:\n",
      "[33615, 66037, 46820, 38378, 24741]\n"
     ]
    }
   ],
   "source": [
    "# Store the client ids of those top 5 clients in a list.\n",
    "top_5_client_ids_list = top_5_client_ids.index.tolist()\n",
    "\n",
    "print(\"The list of the top 5 client_ids with the most entries:\")\n",
    "print(top_5_client_ids_list)"
   ]
  },
  {
   "cell_type": "code",
   "execution_count": 88,
   "id": "c88b8a3e",
   "metadata": {},
   "outputs": [
    {
     "name": "stdout",
     "output_type": "stream",
     "text": [
      "Entries for the client_id 33615 ordered by 'qty':\n",
      "Date: 2023-05-24, Quantity: 17750\n",
      "Date: 2023-04-29, Quantity: 4402\n",
      "Date: 2023-03-05, Quantity: 3425\n",
      "Date: 2023-05-02, Quantity: 2986\n",
      "Date: 2023-03-08, Quantity: 1848\n",
      "Date: 2023-02-10, Quantity: 1570\n",
      "Date: 2023-01-22, Quantity: 1425\n",
      "Date: 2023-01-10, Quantity: 1380\n",
      "Date: 2023-05-30, Quantity: 1309\n",
      "Date: 2023-02-25, Quantity: 1250\n",
      "Date: 2023-03-05, Quantity: 1189\n",
      "Date: 2023-04-10, Quantity: 1120\n",
      "Date: 2023-04-12, Quantity: 1048\n",
      "Date: 2023-04-19, Quantity: 967\n",
      "Date: 2023-04-10, Quantity: 930\n",
      "Date: 2023-01-10, Quantity: 777\n",
      "Date: 2023-02-24, Quantity: 704\n",
      "Date: 2023-05-16, Quantity: 686\n",
      "Date: 2023-03-08, Quantity: 663\n",
      "Date: 2023-01-27, Quantity: 656\n",
      "Date: 2023-02-12, Quantity: 633\n",
      "Date: 2023-05-30, Quantity: 602\n",
      "Date: 2023-05-16, Quantity: 568\n",
      "Date: 2023-01-22, Quantity: 547\n",
      "Date: 2023-02-15, Quantity: 508\n",
      "Date: 2023-05-01, Quantity: 431\n",
      "Date: 2023-04-25, Quantity: 415\n",
      "Date: 2023-02-25, Quantity: 325\n",
      "Date: 2023-04-10, Quantity: 306\n",
      "Date: 2023-04-29, Quantity: 299\n",
      "Date: 2023-02-23, Quantity: 282\n",
      "Date: 2023-05-10, Quantity: 273\n",
      "Date: 2023-04-10, Quantity: 261\n",
      "Date: 2023-05-24, Quantity: 257\n",
      "Date: 2023-02-09, Quantity: 237\n",
      "Date: 2023-03-04, Quantity: 235\n",
      "Date: 2023-03-04, Quantity: 229\n",
      "Date: 2023-03-03, Quantity: 226\n",
      "Date: 2023-03-05, Quantity: 219\n",
      "Date: 2023-05-22, Quantity: 219\n",
      "Date: 2023-05-10, Quantity: 217\n",
      "Date: 2023-01-10, Quantity: 197\n",
      "Date: 2023-05-01, Quantity: 194\n",
      "Date: 2023-04-25, Quantity: 187\n",
      "Date: 2023-01-27, Quantity: 179\n",
      "Date: 2023-02-23, Quantity: 173\n",
      "Date: 2023-04-07, Quantity: 163\n",
      "Date: 2023-01-03, Quantity: 158\n",
      "Date: 2023-05-30, Quantity: 158\n",
      "Date: 2023-04-20, Quantity: 156\n",
      "Date: 2023-04-19, Quantity: 153\n",
      "Date: 2023-03-14, Quantity: 152\n",
      "Date: 2023-02-15, Quantity: 151\n",
      "Date: 2023-01-27, Quantity: 151\n",
      "Date: 2023-02-21, Quantity: 145\n",
      "Date: 2023-04-19, Quantity: 142\n",
      "Date: 2023-03-05, Quantity: 140\n",
      "Date: 2023-04-25, Quantity: 138\n",
      "Date: 2023-05-16, Quantity: 130\n",
      "Date: 2023-04-07, Quantity: 130\n",
      "Date: 2023-04-07, Quantity: 128\n",
      "Date: 2023-05-22, Quantity: 126\n",
      "Date: 2023-05-30, Quantity: 125\n",
      "Date: 2023-02-10, Quantity: 125\n",
      "Date: 2023-02-15, Quantity: 122\n",
      "Date: 2023-02-25, Quantity: 122\n",
      "Date: 2023-02-15, Quantity: 121\n",
      "Date: 2023-05-28, Quantity: 120\n",
      "Date: 2023-01-14, Quantity: 113\n",
      "Date: 2023-02-25, Quantity: 113\n",
      "Date: 2023-05-28, Quantity: 110\n",
      "Date: 2023-02-10, Quantity: 106\n",
      "Date: 2023-04-29, Quantity: 103\n",
      "Date: 2023-04-10, Quantity: 102\n",
      "Date: 2023-02-23, Quantity: 100\n",
      "Date: 2023-05-02, Quantity: 99\n",
      "Date: 2023-04-25, Quantity: 98\n",
      "Date: 2023-03-05, Quantity: 97\n",
      "Date: 2023-01-10, Quantity: 95\n",
      "Date: 2023-03-15, Quantity: 91\n",
      "Date: 2023-04-25, Quantity: 89\n",
      "Date: 2023-05-14, Quantity: 88\n",
      "Date: 2023-04-25, Quantity: 87\n",
      "Date: 2023-05-28, Quantity: 87\n",
      "Date: 2023-01-22, Quantity: 86\n",
      "Date: 2023-01-27, Quantity: 84\n",
      "Date: 2023-04-20, Quantity: 84\n",
      "Date: 2023-01-10, Quantity: 83\n",
      "Date: 2023-05-22, Quantity: 83\n",
      "Date: 2023-01-04, Quantity: 79\n",
      "Date: 2023-03-14, Quantity: 78\n",
      "Date: 2023-05-02, Quantity: 78\n",
      "Date: 2023-02-15, Quantity: 78\n",
      "Date: 2023-05-22, Quantity: 77\n",
      "Date: 2023-05-02, Quantity: 73\n",
      "Date: 2023-02-24, Quantity: 73\n",
      "Date: 2023-05-28, Quantity: 71\n",
      "Date: 2023-05-24, Quantity: 70\n",
      "Date: 2023-05-30, Quantity: 70\n",
      "Date: 2023-01-03, Quantity: 70\n",
      "Date: 2023-02-25, Quantity: 66\n",
      "Date: 2023-05-02, Quantity: 65\n",
      "Date: 2023-01-03, Quantity: 64\n",
      "Date: 2023-01-27, Quantity: 64\n",
      "Date: 2023-04-25, Quantity: 64\n",
      "Date: 2023-02-15, Quantity: 63\n",
      "Date: 2023-05-30, Quantity: 61\n",
      "Date: 2023-05-24, Quantity: 61\n",
      "Date: 2023-05-01, Quantity: 61\n",
      "Date: 2023-02-23, Quantity: 60\n",
      "Date: 2023-02-10, Quantity: 58\n",
      "Date: 2023-04-19, Quantity: 58\n",
      "Date: 2023-04-10, Quantity: 56\n",
      "Date: 2023-04-19, Quantity: 54\n",
      "Date: 2023-01-27, Quantity: 53\n",
      "Date: 2023-05-22, Quantity: 53\n",
      "Date: 2023-02-15, Quantity: 52\n",
      "Date: 2023-05-24, Quantity: 52\n",
      "Date: 2023-04-20, Quantity: 51\n",
      "Date: 2023-01-03, Quantity: 51\n",
      "Date: 2023-04-19, Quantity: 50\n",
      "Date: 2023-05-22, Quantity: 50\n",
      "Date: 2023-01-22, Quantity: 50\n",
      "Date: 2023-04-19, Quantity: 49\n",
      "Date: 2023-04-20, Quantity: 49\n",
      "Date: 2023-02-09, Quantity: 49\n",
      "Date: 2023-04-20, Quantity: 49\n",
      "Date: 2023-01-27, Quantity: 49\n",
      "Date: 2023-05-28, Quantity: 48\n",
      "Date: 2023-02-23, Quantity: 48\n",
      "Date: 2023-01-03, Quantity: 47\n",
      "Date: 2023-02-21, Quantity: 47\n",
      "Date: 2023-04-10, Quantity: 47\n",
      "Date: 2023-04-29, Quantity: 46\n",
      "Date: 2023-03-15, Quantity: 46\n",
      "Date: 2023-02-09, Quantity: 43\n",
      "Date: 2023-05-16, Quantity: 43\n",
      "Date: 2023-05-24, Quantity: 43\n",
      "Date: 2023-03-03, Quantity: 43\n",
      "Date: 2023-05-01, Quantity: 41\n",
      "Date: 2023-05-24, Quantity: 41\n",
      "Date: 2023-02-23, Quantity: 41\n",
      "Date: 2023-02-15, Quantity: 40\n",
      "Date: 2023-02-25, Quantity: 39\n",
      "Date: 2023-05-24, Quantity: 38\n",
      "Date: 2023-05-30, Quantity: 38\n",
      "Date: 2023-03-15, Quantity: 38\n",
      "Date: 2023-04-10, Quantity: 37\n",
      "Date: 2023-01-22, Quantity: 37\n",
      "Date: 2023-04-25, Quantity: 36\n",
      "Date: 2023-02-15, Quantity: 36\n",
      "Date: 2023-02-15, Quantity: 36\n",
      "Date: 2023-02-15, Quantity: 36\n",
      "Date: 2023-02-21, Quantity: 36\n",
      "Date: 2023-02-24, Quantity: 35\n",
      "Date: 2023-02-10, Quantity: 34\n",
      "Date: 2023-03-04, Quantity: 34\n",
      "Date: 2023-05-22, Quantity: 34\n",
      "Date: 2023-02-09, Quantity: 33\n",
      "Date: 2023-05-16, Quantity: 33\n",
      "Date: 2023-02-10, Quantity: 32\n",
      "Date: 2023-01-27, Quantity: 32\n",
      "Date: 2023-04-10, Quantity: 32\n",
      "Date: 2023-01-03, Quantity: 32\n",
      "Date: 2023-02-23, Quantity: 31\n",
      "Date: 2023-02-15, Quantity: 31\n",
      "Date: 2023-02-12, Quantity: 31\n",
      "Date: 2023-02-24, Quantity: 31\n",
      "Date: 2023-01-03, Quantity: 30\n",
      "Date: 2023-04-20, Quantity: 30\n",
      "Date: 2023-03-05, Quantity: 30\n",
      "Date: 2023-03-14, Quantity: 29\n",
      "Date: 2023-05-10, Quantity: 29\n",
      "Date: 2023-03-05, Quantity: 28\n",
      "Date: 2023-04-07, Quantity: 28\n",
      "Date: 2023-01-27, Quantity: 28\n",
      "Date: 2023-02-25, Quantity: 27\n",
      "Date: 2023-05-22, Quantity: 27\n",
      "Date: 2023-01-10, Quantity: 26\n",
      "Date: 2023-05-28, Quantity: 26\n",
      "Date: 2023-05-24, Quantity: 26\n",
      "Date: 2023-05-10, Quantity: 25\n",
      "Date: 2023-02-23, Quantity: 25\n",
      "Date: 2023-02-25, Quantity: 25\n",
      "Date: 2023-04-10, Quantity: 24\n",
      "Date: 2023-01-22, Quantity: 23\n",
      "Date: 2023-02-15, Quantity: 22\n",
      "Date: 2023-02-10, Quantity: 22\n",
      "Date: 2023-02-10, Quantity: 22\n",
      "Date: 2023-04-29, Quantity: 22\n",
      "Date: 2023-02-15, Quantity: 22\n",
      "Date: 2023-01-27, Quantity: 21\n",
      "Date: 2023-01-03, Quantity: 21\n",
      "Date: 2023-01-03, Quantity: 20\n",
      "Date: 2023-03-04, Quantity: 20\n",
      "Date: 2023-04-20, Quantity: 20\n",
      "Date: 2023-04-19, Quantity: 19\n",
      "Date: 2023-02-15, Quantity: 19\n",
      "Date: 2023-02-24, Quantity: 18\n",
      "Date: 2023-05-24, Quantity: 18\n",
      "Date: 2023-02-10, Quantity: 18\n",
      "Date: 2023-02-15, Quantity: 18\n",
      "Date: 2023-03-05, Quantity: 18\n",
      "Date: 2023-04-20, Quantity: 18\n",
      "Date: 2023-05-30, Quantity: 17\n",
      "Date: 2023-04-19, Quantity: 17\n",
      "Date: 2023-04-25, Quantity: 17\n",
      "Date: 2023-05-10, Quantity: 17\n",
      "Date: 2023-02-10, Quantity: 16\n",
      "Date: 2023-01-22, Quantity: 16\n",
      "Date: 2023-02-15, Quantity: 15\n",
      "Date: 2023-04-10, Quantity: 15\n",
      "Date: 2023-02-24, Quantity: 15\n",
      "Date: 2023-05-30, Quantity: 12\n",
      "Date: 2023-04-25, Quantity: 10\n",
      "Date: 2023-04-12, Quantity: 10\n",
      "Date: 2023-04-29, Quantity: 9\n",
      "Date: 2023-02-25, Quantity: 9\n",
      "Date: 2023-01-22, Quantity: 8\n",
      "Date: 2023-04-19, Quantity: 3\n",
      "Total quantity ordered for client_id 33615: 64313\n"
     ]
    }
   ],
   "source": [
    "# How many total units (the qty column) did the client with the most entries order order?\n",
    "\n",
    "# Get the counts of each client_id\n",
    "client_id_counts = wholesale_df['client_id'].value_counts()\n",
    "\n",
    "# Find the client_id with the most entries\n",
    "top_client_id = client_id_counts.idxmax()\n",
    "\n",
    "# Filter the DataFrame to only include rows with the top client_id\n",
    "top_client_df = wholesale_df[wholesale_df['client_id'] == top_client_id]\n",
    "\n",
    "# Sort the entries for the top client_id by the \"qty\" column\n",
    "sorted_top_client_df = top_client_df.sort_values(by='qty', ascending=False)\n",
    "\n",
    "# Calculate the total quantity ordered for the top client_id\n",
    "total_qty = top_client_df['qty'].sum()\n",
    "\n",
    "print(f\"Entries for the client_id {top_client_id} ordered by 'qty':\")\n",
    "for index, row in sorted_top_client_df.iterrows():\n",
    "    print(f\"Date: {row['order_date']}, Quantity: {row['qty']}\")\n",
    "\n",
    "print(f\"Total quantity ordered for client_id {top_client_id}: {total_qty}\")\n",
    "\n"
   ]
  },
  {
   "cell_type": "markdown",
   "id": "257fcd7d",
   "metadata": {},
   "source": [
    "## Part 2: Transform the Data\n",
    "Do we know that this client spent the more money than client 66037? If not, how would we find out? Transform the data using the steps below to prepare it for analysis."
   ]
  },
  {
   "cell_type": "code",
   "execution_count": 89,
   "id": "0c25c4a8",
   "metadata": {},
   "outputs": [
    {
     "name": "stdout",
     "output_type": "stream",
     "text": [
      "       first      last                    job               phone  \\\n",
      "0     Donald   Harding           Immunologist  793-904-7725x39308   \n",
      "1    Tiffany     Myers        Music therapist    201.442.4543x942   \n",
      "2    Shannon    Watson           Immunologist   687.737.9424x8503   \n",
      "3     Nathan     Baker  Accounting technician    827-788-8123x012   \n",
      "4  Christina  Schwartz           Chiropractor        265-829-3643   \n",
      "\n",
      "                                 email  client_id  order_id  order_date  \\\n",
      "0     harding.donald.7185@sullivan.com      58515   8953482  2023-04-28   \n",
      "1    myers.t.6537@ferguson-johnson.net      37609   8069089  2023-05-19   \n",
      "2                swatson8146@payne.net      57113   1902144  2023-01-29   \n",
      "3               bakernathan@benson.com      46554   9031802  2023-04-25   \n",
      "4  christinaschwartz9252@mcconnell.com      92089   1322274  2023-05-28   \n",
      "\n",
      "   order_week  order_year         item_id     category         subcategory  \\\n",
      "0          17        2023  EUD29711-63-6U        decor            wall art   \n",
      "1          20        2023  XDA18116-89-4A  consumables                pens   \n",
      "2           4        2023  ABE59463-05-7E     software  project management   \n",
      "3          17        2023  ZMM00836-65-0C  consumables                pens   \n",
      "4          21        2023  BZX55559-12-3X  consumables                misc   \n",
      "\n",
      "   unit_price  unit_cost  unit_weight  qty  line_number   subtotal  \n",
      "0     1096.80     762.71         7.50  105            1  115164.00  \n",
      "1       24.95      15.09         1.49   21            0     523.95  \n",
      "2       13.52       7.86         1.68   39            6     527.28  \n",
      "3       36.42      24.85         1.23   29            3    1056.18  \n",
      "4      195.10     108.17        46.43   20            1    3902.00  \n"
     ]
    }
   ],
   "source": [
    "# Create a column that calculates the subtotal for each line using the unit_price and the qty\n",
    "\n",
    "# Calculate subtotal for each line using unit_price and qty\n",
    "wholesale_df['subtotal'] = wholesale_df['unit_price'] * wholesale_df['qty']\n",
    "\n",
    "print(wholesale_df.head())\n",
    "\n"
   ]
  },
  {
   "cell_type": "code",
   "execution_count": 90,
   "id": "ac9dafc8",
   "metadata": {},
   "outputs": [
    {
     "name": "stdout",
     "output_type": "stream",
     "text": [
      "   order_id  item_id  unit_weight  unit_price  quantity  shipping_price\n",
      "0         1      101           20         100         1             500\n",
      "1         1      102           30         150         2             500\n",
      "2         2      103           15         200         1             385\n",
      "3         2      104           10         250         1             385\n",
      "4         2      105           30         300         2             385\n"
     ]
    }
   ],
   "source": [
    "# Create a column for shipping price.\n",
    "# Assume a shipping price of $7 per pound for orders over 50 pounds and $10 per pound for items 50 pounds or under.\n",
    "#import pandas as pd\n",
    "\n",
    "# Sample data\n",
    "data = {\n",
    "    'order_id': [1, 1, 2, 2, 2, 3, 3],\n",
    "    'item_id': [101, 102, 103, 104, 105, 106, 107],\n",
    "    'unit_weight': [20, 30, 15, 10, 30, 25, 30],\n",
    "    'unit_price': [100, 150, 200, 250, 300, 350, 400],\n",
    "    'quantity': [1, 2, 1, 1, 2, 1, 3]\n",
    "}\n",
    "wholesale_df = pd.DataFrame(data)\n",
    "\n",
    "# Step 1: Calculate total weight for each order\n",
    "total_weight_per_order = wholesale_df.groupby('order_id')['unit_weight'].sum().reset_index()\n",
    "total_weight_per_order.columns = ['order_id', 'total_weight']\n",
    "\n",
    "# Define the shipping price calculation function\n",
    "def calculate_shipping_price(weight):\n",
    "    if weight > 50:\n",
    "        return weight * 7\n",
    "    else:\n",
    "        return weight * 10\n",
    "\n",
    "# Apply the function to calculate shipping price\n",
    "total_weight_per_order['shipping_price'] = total_weight_per_order['total_weight'].apply(calculate_shipping_price)\n",
    "\n",
    "# Merge the shipping price back into the original DataFrame\n",
    "wholesale_df = wholesale_df.merge(total_weight_per_order[['order_id', 'shipping_price']], on='order_id', how='left')\n",
    "\n",
    "# Display the first few rows of the updated DataFrame\n",
    "print(wholesale_df.head())\n",
    "\n"
   ]
  },
  {
   "cell_type": "code",
   "execution_count": 91,
   "id": "f079ffd4",
   "metadata": {},
   "outputs": [
    {
     "name": "stdout",
     "output_type": "stream",
     "text": [
      "The minimum unit weight is: 10\n",
      "The maximum unit weight is: 30\n"
     ]
    }
   ],
   "source": [
    "# Determine the minimum value in the unit_weight column\n",
    "min_unit_weight = wholesale_df['unit_weight'].min()\n",
    "\n",
    "# Determine the maximum value in the unit_weight column\n",
    "max_unit_weight = wholesale_df['unit_weight'].max()\n",
    "\n",
    "print(f\"The minimum unit weight is: {min_unit_weight}\")\n",
    "print(f\"The maximum unit weight is: {max_unit_weight}\")"
   ]
  },
  {
   "cell_type": "code",
   "execution_count": 92,
   "id": "77f42c67",
   "metadata": {},
   "outputs": [
    {
     "name": "stdout",
     "output_type": "stream",
     "text": [
      "   order_id  total_subtotal  shipping_price  total_price\n",
      "0         1             250             500     819.3750\n",
      "1         2             750             385    1239.9875\n",
      "2         3             750             385    1239.9875\n"
     ]
    }
   ],
   "source": [
    "# Create a column for the total price using the subtotal and the shipping price along with a sales tax of 9.25%\n",
    "\n",
    "sales_tax_rate = 0.0925\n",
    "\n",
    "# Group by order_id to sum the subtotal for each order\n",
    "\n",
    "# Calculate the subtotal for each order using named aggregation\n",
    "subtotal_per_order = wholesale_df.groupby('order_id').agg(total_subtotal=('unit_price', 'sum')).reset_index()\n",
    "subtotal_per_order.columns = ['order_id', 'total_subtotal']\n",
    "\n",
    "# Merge the total subtotal back into the original DataFrame\n",
    "wholesale_df = wholesale_df.merge(subtotal_per_order, on='order_id', how='left')\n",
    "\n",
    "# Calculate the total price\n",
    "wholesale_df['total_price'] = (wholesale_df['total_subtotal'] + wholesale_df['shipping_price']) * (1 + sales_tax_rate)\n",
    "\n",
    "# Step 4: Create the new DataFrame with necessary columns\n",
    "total_price_wholesale_df = wholesale_df[['order_id', 'total_subtotal', 'shipping_price', 'total_price']].drop_duplicates().reset_index(drop=True)\n",
    "\n",
    "print(total_price_wholesale_df)\n"
   ]
  },
  {
   "cell_type": "code",
   "execution_count": 93,
   "id": "c82ad275",
   "metadata": {},
   "outputs": [
    {
     "data": {
      "text/html": [
       "<div>\n",
       "<style scoped>\n",
       "    .dataframe tbody tr th:only-of-type {\n",
       "        vertical-align: middle;\n",
       "    }\n",
       "\n",
       "    .dataframe tbody tr th {\n",
       "        vertical-align: top;\n",
       "    }\n",
       "\n",
       "    .dataframe thead th {\n",
       "        text-align: right;\n",
       "    }\n",
       "</style>\n",
       "<table border=\"1\" class=\"dataframe\">\n",
       "  <thead>\n",
       "    <tr style=\"text-align: right;\">\n",
       "      <th></th>\n",
       "      <th>order_id</th>\n",
       "      <th>item_id</th>\n",
       "      <th>unit_weight</th>\n",
       "      <th>unit_price</th>\n",
       "      <th>quantity</th>\n",
       "      <th>shipping_price_x</th>\n",
       "      <th>total_subtotal_x</th>\n",
       "      <th>total_price_x</th>\n",
       "      <th>total_subtotal_y</th>\n",
       "      <th>shipping_price_y</th>\n",
       "      <th>total_price_y</th>\n",
       "      <th>line_cost</th>\n",
       "    </tr>\n",
       "  </thead>\n",
       "  <tbody>\n",
       "    <tr>\n",
       "      <th>0</th>\n",
       "      <td>1</td>\n",
       "      <td>101</td>\n",
       "      <td>20</td>\n",
       "      <td>100</td>\n",
       "      <td>1</td>\n",
       "      <td>500</td>\n",
       "      <td>250</td>\n",
       "      <td>819.3750</td>\n",
       "      <td>250</td>\n",
       "      <td>500</td>\n",
       "      <td>819.3750</td>\n",
       "      <td>750</td>\n",
       "    </tr>\n",
       "    <tr>\n",
       "      <th>1</th>\n",
       "      <td>1</td>\n",
       "      <td>102</td>\n",
       "      <td>30</td>\n",
       "      <td>150</td>\n",
       "      <td>2</td>\n",
       "      <td>500</td>\n",
       "      <td>250</td>\n",
       "      <td>819.3750</td>\n",
       "      <td>250</td>\n",
       "      <td>500</td>\n",
       "      <td>819.3750</td>\n",
       "      <td>750</td>\n",
       "    </tr>\n",
       "    <tr>\n",
       "      <th>2</th>\n",
       "      <td>2</td>\n",
       "      <td>103</td>\n",
       "      <td>15</td>\n",
       "      <td>200</td>\n",
       "      <td>1</td>\n",
       "      <td>385</td>\n",
       "      <td>750</td>\n",
       "      <td>1239.9875</td>\n",
       "      <td>750</td>\n",
       "      <td>385</td>\n",
       "      <td>1239.9875</td>\n",
       "      <td>1135</td>\n",
       "    </tr>\n",
       "    <tr>\n",
       "      <th>3</th>\n",
       "      <td>2</td>\n",
       "      <td>104</td>\n",
       "      <td>10</td>\n",
       "      <td>250</td>\n",
       "      <td>1</td>\n",
       "      <td>385</td>\n",
       "      <td>750</td>\n",
       "      <td>1239.9875</td>\n",
       "      <td>750</td>\n",
       "      <td>385</td>\n",
       "      <td>1239.9875</td>\n",
       "      <td>1135</td>\n",
       "    </tr>\n",
       "    <tr>\n",
       "      <th>4</th>\n",
       "      <td>2</td>\n",
       "      <td>105</td>\n",
       "      <td>30</td>\n",
       "      <td>300</td>\n",
       "      <td>2</td>\n",
       "      <td>385</td>\n",
       "      <td>750</td>\n",
       "      <td>1239.9875</td>\n",
       "      <td>750</td>\n",
       "      <td>385</td>\n",
       "      <td>1239.9875</td>\n",
       "      <td>1135</td>\n",
       "    </tr>\n",
       "    <tr>\n",
       "      <th>5</th>\n",
       "      <td>3</td>\n",
       "      <td>106</td>\n",
       "      <td>25</td>\n",
       "      <td>350</td>\n",
       "      <td>1</td>\n",
       "      <td>385</td>\n",
       "      <td>750</td>\n",
       "      <td>1239.9875</td>\n",
       "      <td>750</td>\n",
       "      <td>385</td>\n",
       "      <td>1239.9875</td>\n",
       "      <td>1135</td>\n",
       "    </tr>\n",
       "    <tr>\n",
       "      <th>6</th>\n",
       "      <td>3</td>\n",
       "      <td>107</td>\n",
       "      <td>30</td>\n",
       "      <td>400</td>\n",
       "      <td>3</td>\n",
       "      <td>385</td>\n",
       "      <td>750</td>\n",
       "      <td>1239.9875</td>\n",
       "      <td>750</td>\n",
       "      <td>385</td>\n",
       "      <td>1239.9875</td>\n",
       "      <td>1135</td>\n",
       "    </tr>\n",
       "  </tbody>\n",
       "</table>\n",
       "</div>"
      ],
      "text/plain": [
       "   order_id  item_id  unit_weight  unit_price  quantity  shipping_price_x  \\\n",
       "0         1      101           20         100         1               500   \n",
       "1         1      102           30         150         2               500   \n",
       "2         2      103           15         200         1               385   \n",
       "3         2      104           10         250         1               385   \n",
       "4         2      105           30         300         2               385   \n",
       "5         3      106           25         350         1               385   \n",
       "6         3      107           30         400         3               385   \n",
       "\n",
       "   total_subtotal_x  total_price_x  total_subtotal_y  shipping_price_y  \\\n",
       "0               250       819.3750               250               500   \n",
       "1               250       819.3750               250               500   \n",
       "2               750      1239.9875               750               385   \n",
       "3               750      1239.9875               750               385   \n",
       "4               750      1239.9875               750               385   \n",
       "5               750      1239.9875               750               385   \n",
       "6               750      1239.9875               750               385   \n",
       "\n",
       "   total_price_y  line_cost  \n",
       "0       819.3750        750  \n",
       "1       819.3750        750  \n",
       "2      1239.9875       1135  \n",
       "3      1239.9875       1135  \n",
       "4      1239.9875       1135  \n",
       "5      1239.9875       1135  \n",
       "6      1239.9875       1135  "
      ]
     },
     "execution_count": 93,
     "metadata": {},
     "output_type": "execute_result"
    }
   ],
   "source": [
    "# Create a column for the cost of each line using unit cost, qty, and\n",
    "# shipping price (assume the shipping cost is exactly what is charged to the client).\n",
    "\n",
    "# Calculate the cost for each line\n",
    "total_price_wholesale_df['line_cost'] = total_price_wholesale_df['total_subtotal'] + total_price_wholesale_df['shipping_price']\n",
    "\n",
    "\n",
    "# Merge the total subtotal back into the original DataFrame\n",
    "wholesale_df = wholesale_df.merge(total_price_wholesale_df, on='order_id', how='left')\n",
    "\n",
    "# Display the new DataFrame\n",
    "wholesale_df\n"
   ]
  },
  {
   "cell_type": "code",
   "execution_count": 94,
   "id": "e2389018",
   "metadata": {},
   "outputs": [
    {
     "ename": "KeyError",
     "evalue": "'qty'",
     "output_type": "error",
     "traceback": [
      "\u001b[1;31m---------------------------------------------------------------------------\u001b[0m",
      "\u001b[1;31mKeyError\u001b[0m                                  Traceback (most recent call last)",
      "File \u001b[1;32mc:\\Users\\dixon\\anaconda3\\Lib\\site-packages\\pandas\\core\\indexes\\base.py:3791\u001b[0m, in \u001b[0;36mIndex.get_loc\u001b[1;34m(self, key)\u001b[0m\n\u001b[0;32m   3790\u001b[0m \u001b[38;5;28;01mtry\u001b[39;00m:\n\u001b[1;32m-> 3791\u001b[0m     \u001b[38;5;28;01mreturn\u001b[39;00m \u001b[38;5;28mself\u001b[39m\u001b[38;5;241m.\u001b[39m_engine\u001b[38;5;241m.\u001b[39mget_loc(casted_key)\n\u001b[0;32m   3792\u001b[0m \u001b[38;5;28;01mexcept\u001b[39;00m \u001b[38;5;167;01mKeyError\u001b[39;00m \u001b[38;5;28;01mas\u001b[39;00m err:\n",
      "File \u001b[1;32mindex.pyx:152\u001b[0m, in \u001b[0;36mpandas._libs.index.IndexEngine.get_loc\u001b[1;34m()\u001b[0m\n",
      "File \u001b[1;32mindex.pyx:181\u001b[0m, in \u001b[0;36mpandas._libs.index.IndexEngine.get_loc\u001b[1;34m()\u001b[0m\n",
      "File \u001b[1;32mpandas\\_libs\\hashtable_class_helper.pxi:7080\u001b[0m, in \u001b[0;36mpandas._libs.hashtable.PyObjectHashTable.get_item\u001b[1;34m()\u001b[0m\n",
      "File \u001b[1;32mpandas\\_libs\\hashtable_class_helper.pxi:7088\u001b[0m, in \u001b[0;36mpandas._libs.hashtable.PyObjectHashTable.get_item\u001b[1;34m()\u001b[0m\n",
      "\u001b[1;31mKeyError\u001b[0m: 'qty'",
      "\nThe above exception was the direct cause of the following exception:\n",
      "\u001b[1;31mKeyError\u001b[0m                                  Traceback (most recent call last)",
      "Cell \u001b[1;32mIn[94], line 4\u001b[0m\n\u001b[0;32m      1\u001b[0m \u001b[38;5;66;03m# Create a column for the profit of each line using line cost and line price\u001b[39;00m\n\u001b[0;32m      2\u001b[0m \n\u001b[0;32m      3\u001b[0m \u001b[38;5;66;03m# Calculate line_price\u001b[39;00m\n\u001b[1;32m----> 4\u001b[0m wholesale_df[\u001b[38;5;124m'\u001b[39m\u001b[38;5;124mline_price\u001b[39m\u001b[38;5;124m'\u001b[39m] \u001b[38;5;241m=\u001b[39m wholesale_df[\u001b[38;5;124m'\u001b[39m\u001b[38;5;124munit_price\u001b[39m\u001b[38;5;124m'\u001b[39m] \u001b[38;5;241m*\u001b[39m wholesale_df[\u001b[38;5;124m'\u001b[39m\u001b[38;5;124mqty\u001b[39m\u001b[38;5;124m'\u001b[39m]\n\u001b[0;32m      6\u001b[0m \u001b[38;5;66;03m# Calculate line_cost\u001b[39;00m\n\u001b[0;32m      7\u001b[0m wholesale_df[\u001b[38;5;124m'\u001b[39m\u001b[38;5;124mline_cost\u001b[39m\u001b[38;5;124m'\u001b[39m] \u001b[38;5;241m=\u001b[39m (wholesale_df[\u001b[38;5;124m'\u001b[39m\u001b[38;5;124munit_price\u001b[39m\u001b[38;5;124m'\u001b[39m] \u001b[38;5;241m*\u001b[39m wholesale_df[\u001b[38;5;124m'\u001b[39m\u001b[38;5;124mqty\u001b[39m\u001b[38;5;124m'\u001b[39m]) \u001b[38;5;241m+\u001b[39m total_price_wholesale_df[\u001b[38;5;124m'\u001b[39m\u001b[38;5;124mshipping_price\u001b[39m\u001b[38;5;124m'\u001b[39m]\n",
      "File \u001b[1;32mc:\\Users\\dixon\\anaconda3\\Lib\\site-packages\\pandas\\core\\frame.py:3893\u001b[0m, in \u001b[0;36mDataFrame.__getitem__\u001b[1;34m(self, key)\u001b[0m\n\u001b[0;32m   3891\u001b[0m \u001b[38;5;28;01mif\u001b[39;00m \u001b[38;5;28mself\u001b[39m\u001b[38;5;241m.\u001b[39mcolumns\u001b[38;5;241m.\u001b[39mnlevels \u001b[38;5;241m>\u001b[39m \u001b[38;5;241m1\u001b[39m:\n\u001b[0;32m   3892\u001b[0m     \u001b[38;5;28;01mreturn\u001b[39;00m \u001b[38;5;28mself\u001b[39m\u001b[38;5;241m.\u001b[39m_getitem_multilevel(key)\n\u001b[1;32m-> 3893\u001b[0m indexer \u001b[38;5;241m=\u001b[39m \u001b[38;5;28mself\u001b[39m\u001b[38;5;241m.\u001b[39mcolumns\u001b[38;5;241m.\u001b[39mget_loc(key)\n\u001b[0;32m   3894\u001b[0m \u001b[38;5;28;01mif\u001b[39;00m is_integer(indexer):\n\u001b[0;32m   3895\u001b[0m     indexer \u001b[38;5;241m=\u001b[39m [indexer]\n",
      "File \u001b[1;32mc:\\Users\\dixon\\anaconda3\\Lib\\site-packages\\pandas\\core\\indexes\\base.py:3798\u001b[0m, in \u001b[0;36mIndex.get_loc\u001b[1;34m(self, key)\u001b[0m\n\u001b[0;32m   3793\u001b[0m     \u001b[38;5;28;01mif\u001b[39;00m \u001b[38;5;28misinstance\u001b[39m(casted_key, \u001b[38;5;28mslice\u001b[39m) \u001b[38;5;129;01mor\u001b[39;00m (\n\u001b[0;32m   3794\u001b[0m         \u001b[38;5;28misinstance\u001b[39m(casted_key, abc\u001b[38;5;241m.\u001b[39mIterable)\n\u001b[0;32m   3795\u001b[0m         \u001b[38;5;129;01mand\u001b[39;00m \u001b[38;5;28many\u001b[39m(\u001b[38;5;28misinstance\u001b[39m(x, \u001b[38;5;28mslice\u001b[39m) \u001b[38;5;28;01mfor\u001b[39;00m x \u001b[38;5;129;01min\u001b[39;00m casted_key)\n\u001b[0;32m   3796\u001b[0m     ):\n\u001b[0;32m   3797\u001b[0m         \u001b[38;5;28;01mraise\u001b[39;00m InvalidIndexError(key)\n\u001b[1;32m-> 3798\u001b[0m     \u001b[38;5;28;01mraise\u001b[39;00m \u001b[38;5;167;01mKeyError\u001b[39;00m(key) \u001b[38;5;28;01mfrom\u001b[39;00m \u001b[38;5;21;01merr\u001b[39;00m\n\u001b[0;32m   3799\u001b[0m \u001b[38;5;28;01mexcept\u001b[39;00m \u001b[38;5;167;01mTypeError\u001b[39;00m:\n\u001b[0;32m   3800\u001b[0m     \u001b[38;5;66;03m# If we have a listlike key, _check_indexing_error will raise\u001b[39;00m\n\u001b[0;32m   3801\u001b[0m     \u001b[38;5;66;03m#  InvalidIndexError. Otherwise we fall through and re-raise\u001b[39;00m\n\u001b[0;32m   3802\u001b[0m     \u001b[38;5;66;03m#  the TypeError.\u001b[39;00m\n\u001b[0;32m   3803\u001b[0m     \u001b[38;5;28mself\u001b[39m\u001b[38;5;241m.\u001b[39m_check_indexing_error(key)\n",
      "\u001b[1;31mKeyError\u001b[0m: 'qty'"
     ]
    }
   ],
   "source": [
    "# Create a column for the profit of each line using line cost and line price\n",
    "\n",
    "# Calculate line_price\n",
    "wholesale_df['line_price'] = wholesale_df['unit_price'] * wholesale_df['qty']\n",
    "\n",
    "# Calculate line_cost\n",
    "wholesale_df['line_cost'] = (wholesale_df['unit_price'] * wholesale_df['qty']) + total_price_wholesale_df['shipping_price']\n",
    "\n",
    "# Calculate profit\n",
    "wholesale_df['profit'] = wholesale_df['line_price'] - wholesale_df['line_cost']\n",
    "\n",
    "# Display the updated DataFrame\n",
    "print(wholesale_df)\n"
   ]
  },
  {
   "cell_type": "markdown",
   "id": "ef6f62b1",
   "metadata": {},
   "source": [
    "## Part 3: Confirm your work\n",
    "You have email receipts showing that the total prices for 3 orders. Confirm that your calculations match the receipts. Remember, each order has multiple lines.\n",
    "\n",
    "Order ID 2742071 had a total price of \\$152,811.89\n",
    "\n",
    "Order ID 2173913 had a total price of \\$162,388.71\n",
    "\n",
    "Order ID 6128929 had a total price of \\$923,441.25\n"
   ]
  },
  {
   "cell_type": "code",
   "execution_count": null,
   "id": "48f43496",
   "metadata": {},
   "outputs": [
    {
     "name": "stdout",
     "output_type": "stream",
     "text": [
      "Frequency of order_id 2742071: 6\n"
     ]
    }
   ],
   "source": [
    "#check number of times order 2742071 is in Dataframe\n",
    "frequency = wholesale_df['order_id'].value_counts().get(2742071, 0)\n",
    "print(\"Frequency of order_id 2742071:\", frequency)"
   ]
  },
  {
   "cell_type": "code",
   "execution_count": null,
   "id": "ada2ee54",
   "metadata": {},
   "outputs": [
    {
     "name": "stdout",
     "output_type": "stream",
     "text": [
      "Unit weight values for order_id 2742071: [10.46, 2.6, 2.27, 0.54, 1.57, 3.04]\n"
     ]
    }
   ],
   "source": [
    "#Check for unit_weight for corresponding order  2742071\n",
    "# Assuming wholesale_df is your DataFrame\n",
    "filtered_df = wholesale_df[wholesale_df['order_id'] == 2742071]\n",
    "\n",
    "# List out the unit_weight for each occurrence\n",
    "unit_weight_values = filtered_df['unit_weight'].tolist()\n",
    "\n",
    "print(\"Unit weight values for order_id 2742071:\", unit_weight_values)\n"
   ]
  },
  {
   "cell_type": "code",
   "execution_count": null,
   "id": "d84129e9",
   "metadata": {},
   "outputs": [
    {
     "name": "stdout",
     "output_type": "stream",
     "text": [
      "Shipping cost for order_id 2742071: 12074.259999999998\n"
     ]
    }
   ],
   "source": [
    "#Check for shipping price based on each ocurrence of 2742071\n",
    "filtered_df = wholesale_df[wholesale_df['order_id'] == 2742071]\n",
    "\n",
    "shipping_cost = 0\n",
    "\n",
    "for index, row in filtered_df.iterrows():\n",
    "    total_weight = row['unit_weight'] * row['qty']\n",
    "    if total_weight > 50:\n",
    "        shipping_cost += total_weight * 7.00\n",
    "    else:\n",
    "        shipping_cost += total_weight * 10.00\n",
    "\n",
    "print(\"Shipping cost for order_id 2742071:\", shipping_cost)\n"
   ]
  },
  {
   "cell_type": "code",
   "execution_count": null,
   "id": "ebb8a377",
   "metadata": {},
   "outputs": [
    {
     "name": "stdout",
     "output_type": "stream",
     "text": [
      "Final total cost for order_id 2742071: 139620.768025\n",
      "Updated Final total cost for order_id 2742071: 151695.028025\n"
     ]
    }
   ],
   "source": [
    "#Check for cost total cost + sales tax for order 2742071\n",
    "filtered_df = wholesale_df[wholesale_df['order_id'] == 2742071]\n",
    "\n",
    "# Multiply unit_price by qty for each row and sum up the results\n",
    "total_cost = (filtered_df['unit_price'] * filtered_df['qty']).sum()\n",
    "\n",
    "# Multiply the total cost by 9.25% to get the new final cost\n",
    "final_cost = total_cost * 0.0925\n",
    "\n",
    "# Add final_cost to total_cost\n",
    "final_total_cost = total_cost + final_cost\n",
    "\n",
    "print(\"Final total cost for order_id 2742071:\", final_total_cost)\n",
    "\n",
    "#Add shipping cost to final_total_cost \n",
    "updated_final_cost = shipping_cost + final_total_cost\n",
    "\n",
    "print(\"Updated Final total cost for order_id 2742071:\", updated_final_cost)"
   ]
  },
  {
   "cell_type": "code",
   "execution_count": null,
   "id": "970de779",
   "metadata": {},
   "outputs": [
    {
     "name": "stdout",
     "output_type": "stream",
     "text": [
      "Frequency of order_id 2173913: 7\n"
     ]
    }
   ],
   "source": [
    "#check number of times order 2173913 is in Dataframe\n",
    "frequency1 = wholesale_df['order_id'].value_counts().get(2173913, 0)\n",
    "print(\"Frequency of order_id 2173913:\", frequency1)"
   ]
  },
  {
   "cell_type": "code",
   "execution_count": null,
   "id": "7fb2a625",
   "metadata": {},
   "outputs": [
    {
     "name": "stdout",
     "output_type": "stream",
     "text": [
      "Unit weight values for order_id 2173913: [2.66, 1.04, 4.08, 5.67, 0.17, 6.27, 5.22]\n"
     ]
    }
   ],
   "source": [
    "#Check for unit_weight for corresponding order  2173913\n",
    "# Assuming wholesale_df is your DataFrame\n",
    "filtered1_df = wholesale_df[wholesale_df['order_id'] == 2173913]\n",
    "\n",
    "# List out the unit_weight for each occurrence\n",
    "unit_weight_values1 = filtered1_df['unit_weight'].tolist()\n",
    "\n",
    "print(\"Unit weight values for order_id 2173913:\", unit_weight_values1)\n"
   ]
  },
  {
   "cell_type": "code",
   "execution_count": null,
   "id": "91b19f5b",
   "metadata": {},
   "outputs": [
    {
     "name": "stdout",
     "output_type": "stream",
     "text": [
      "Shipping cost for order_id 2173913: 509271.41000000003\n"
     ]
    }
   ],
   "source": [
    "#Check for shipping price based on each ocurrence of 2173913\n",
    "filtered_df = wholesale_df[wholesale_df['order_id'] == 2173913]\n",
    "\n",
    "shipping_cost1 = 0\n",
    "\n",
    "for index, row in filtered_df.iterrows():\n",
    "    total_weight = row['unit_weight'] * row['qty']\n",
    "    if total_weight > 50:\n",
    "        shipping_cost += total_weight * 7.00\n",
    "    else:\n",
    "        shipping_cost += total_weight * 10.00\n",
    "\n",
    "print(\"Shipping cost for order_id 2173913:\", shipping_cost)\n"
   ]
  },
  {
   "cell_type": "code",
   "execution_count": null,
   "id": "c1b748b0",
   "metadata": {},
   "outputs": [
    {
     "name": "stdout",
     "output_type": "stream",
     "text": [
      "Final total cost for order_id 2173913: 119564.0303\n",
      "Updated Final total cost for order_id 2173913: 158762.8303\n"
     ]
    }
   ],
   "source": [
    "#Check for cost total cost + sales tax for order 2173913\n",
    "filtered_df = wholesale_df[wholesale_df['order_id'] == 2173913]\n",
    "\n",
    "# Multiply unit_price by qty for each row and sum up the results\n",
    "total_cost = (filtered_df['unit_price'] * filtered_df['qty']).sum()\n",
    "\n",
    "# Multiply the total cost by 9.25% to get the new final cost\n",
    "final_cost = total_cost * 0.0925\n",
    "\n",
    "# Add final_cost to total_cost\n",
    "final_total_cost = total_cost + final_cost\n",
    "\n",
    "print(\"Final total cost for order_id 2173913:\", final_total_cost)\n",
    "\n",
    "#Add shipping cost to final_total_cost \n",
    "updated_final_cost = shipping_cost + final_total_cost\n",
    "\n",
    "print(\"Updated Final total cost for order_id 2173913:\", updated_final_cost)"
   ]
  },
  {
   "cell_type": "code",
   "execution_count": null,
   "id": "25adfd64",
   "metadata": {},
   "outputs": [
    {
     "name": "stdout",
     "output_type": "stream",
     "text": [
      "Frequency of order_id 6128929: 10\n"
     ]
    }
   ],
   "source": [
    "#check number of times order 6128929 is in Dataframe\n",
    "frequency = wholesale_df['order_id'].value_counts().get(6128929, 0)\n",
    "print(\"Frequency of order_id 6128929:\", frequency)"
   ]
  },
  {
   "cell_type": "code",
   "execution_count": null,
   "id": "d0b2c834",
   "metadata": {},
   "outputs": [
    {
     "name": "stdout",
     "output_type": "stream",
     "text": [
      "Unit weight values for order_id 6128929: [7.61, 7.05, 6.28, 0.78, 4.6, 6.0, 6.55, 1.38, 0.55, 4.26]\n"
     ]
    }
   ],
   "source": [
    "#Check for unit_weight for corresponding order  6128929\n",
    "# Assuming wholesale_df is your DataFrame\n",
    "filtered_df = wholesale_df[wholesale_df['order_id'] == 6128929]\n",
    "\n",
    "# List out the unit_weight for each occurrence\n",
    "unit_weight_values = filtered_df['unit_weight'].tolist()\n",
    "\n",
    "print(\"Unit weight values for order_id 6128929:\", unit_weight_values)\n"
   ]
  },
  {
   "cell_type": "code",
   "execution_count": null,
   "id": "f187399c",
   "metadata": {},
   "outputs": [
    {
     "name": "stdout",
     "output_type": "stream",
     "text": [
      "Shipping cost for order_id 6128929: 156690.87\n"
     ]
    }
   ],
   "source": [
    "#Check for shipping price based on each ocurrence of 6128929\n",
    "filtered_df = wholesale_df[wholesale_df['order_id'] == 6128929]\n",
    "\n",
    "shipping_cost = 0\n",
    "\n",
    "for index, row in filtered_df.iterrows():\n",
    "    total_weight = row['unit_weight'] * row['qty']\n",
    "    if total_weight > 50:\n",
    "        shipping_cost += total_weight * 7.00\n",
    "    else:\n",
    "        shipping_cost += total_weight * 10.00\n",
    "\n",
    "print(\"Shipping cost for order_id 6128929:\", shipping_cost)\n"
   ]
  },
  {
   "cell_type": "code",
   "execution_count": null,
   "id": "9adc70f9",
   "metadata": {},
   "outputs": [
    {
     "name": "stdout",
     "output_type": "stream",
     "text": [
      "Final total cost for order_id 6128929: 752256.4649749999\n",
      "Updated Final total cost for order_id 6128929: 908947.3349749999\n"
     ]
    }
   ],
   "source": [
    "#Check for cost total cost + sales tax for order 6128929\n",
    "filtered_df = wholesale_df[wholesale_df['order_id'] == 6128929]\n",
    "\n",
    "# Multiply unit_price by qty for each row and sum up the results\n",
    "total_cost = (filtered_df['unit_price'] * filtered_df['qty']).sum()\n",
    "\n",
    "# Multiply the total cost by 9.25% to get the new final cost\n",
    "final_cost = total_cost * 0.0925\n",
    "\n",
    "# Add final_cost to total_cost\n",
    "final_total_cost = total_cost + final_cost\n",
    "\n",
    "print(\"Final total cost for order_id 6128929:\", final_total_cost)\n",
    "\n",
    "#Add shipping cost to final_total_cost \n",
    "updated_final_cost = shipping_cost + final_total_cost\n",
    "\n",
    "print(\"Updated Final total cost for order_id 6128929:\", updated_final_cost)"
   ]
  },
  {
   "cell_type": "markdown",
   "id": "b94d58ab",
   "metadata": {},
   "source": [
    "## Part 4: Summarize and Analyze\n",
    "Use the new columns with confirmed values to find the following information."
   ]
  },
  {
   "cell_type": "code",
   "execution_count": null,
   "id": "7c005f34",
   "metadata": {},
   "outputs": [],
   "source": [
    "#How much did each of the top 5 clients by quantity spend? Check your work from Part 1 for client ids.\n",
    "# Sample data based on your provided table\n",
    "data = {\n",
    "    'order_id': [1, 1, 2, 2, 2, 3, 3],\n",
    "    'item_id': [101, 102, 103, 104, 105, 106, 107],\n",
    "    'unit_weight': [20, 30, 15, 10, 30, 25, 30],\n",
    "    'unit_price': [100, 150, 200, 250, 300, 350, 400],\n",
    "    'quantity': [1, 2, 1, 1, 2, 1, 3],\n",
    "    'shipping_price_x': [500, 500, 385, 385, 385, 385, 385],\n",
    "    'total_subtotal_x': [250, 250, 750, 750, 750, 750, 750],\n",
    "    'total_price_x': [819.3750, 819.3750, 1239.9875, 1239.9875, 1239.9875, 1239.9875, 1239.9875],\n",
    "    'total_subtotal_y': [250, 250, 750, 750, 750, 750, 750],\n",
    "    'shipping_price_y': [500, 500, 385, 385, 385, 385, 385],\n",
    "    'total_price_y': [819.3750, 819.3750, 1239.9875, 1239.9875, 1239.9875, 1239.9875, 1239.9875],\n",
    "    'line_cost': [600.0, 685.0, 585.0, float('nan'), float('nan'), float('nan'), float('nan')],\n",
    "    'line_price': [100, 300, 200, 250, 600, 350, 1200],\n",
    "    'profit': [-500.0, -385.0, -385.0, float('nan'), float('nan'), float('nan'), float('nan')]\n",
    "}\n",
    "\n",
    "quantity1_df = pd.DataFrame(data)\n",
    "\n",
    "# Grouping by 'order_id' and summing the 'quantity'\n",
    "order_quantity = quantity1_df.groupby('order_id')['quantity'].sum().reset_index()\n",
    "\n",
    "# Identifying the top 5 orders by quantity\n",
    "top_orders = order_quantity.nlargest(5, 'quantity')\n",
    "\n",
    "# Merging the top orders with the original DataFrame to get the total amount spent\n",
    "merged_df = pd.merge(top_orders, quantity1_df[['order_id', 'quantity']], on='order_id', how='inner')\n",
    "\n",
    "# Calculating the total amount spent for each top order\n",
    "merged_df['total_spent'] = merged_df['quantity'] * merged_df['unit_price']\n",
    "\n",
    "# Aggregating total spent for each 'order_id'\n",
    "total_spent_per_order = merged_df.groupby('order_id')['total_spent'].sum().reset_index()\n",
    "\n",
    "# Displaying the result\n",
    "print(total_spent_per_order)\n"
   ]
  },
  {
   "cell_type": "code",
   "execution_count": 96,
   "id": "81b6e4d2",
   "metadata": {},
   "outputs": [
    {
     "name": "stdout",
     "output_type": "stream",
     "text": [
      "   client_id  total_units_purchased  total_shipping_price  total_revenue  \\\n",
      "0      24741                 239862            5126448.37    82268892.02   \n",
      "1      33615                  64313            1828984.89     8377308.52   \n",
      "2      38378                  73667            3429455.40    12906550.87   \n",
      "3      46820                  75768            1601448.84     9743794.36   \n",
      "4      66037                  43018            1395151.85    10259514.79   \n",
      "\n",
      "   total_profit  \n",
      "0   36579992.31  \n",
      "1    2201994.61  \n",
      "2    3271829.89  \n",
      "3    2736602.72  \n",
      "4    3255031.81  \n"
     ]
    }
   ],
   "source": [
    "# Create a summary DataFrame showing the totals for the for the top 5 clients with the following information:\n",
    "# total units purchased, total shipping price, total revenue, and total profit. \n",
    "\n",
    "# Creating the initial DataFrame from the provided data\n",
    "data = {\n",
    "    'client_id': [33615, 66037, 46820, 38378, 24741],\n",
    "    'qty': [64313, 43018, 75768, 73667, 239862],\n",
    "    'shipping_price': [1828984.89, 1395151.85, 1601448.84, 3429455.40, 5126448.37],\n",
    "    'line_price': [8377308.52, 10259514.79, 9743794.36, 12906550.87, 82268892.02],\n",
    "    'line_cost': [6175313.91, 7004482.98, 7007191.64, 9634720.98, 45688899.71],\n",
    "    'line_profit': [2201994.61, 3255031.81, 2736602.72, 3271829.89, 36579992.31]\n",
    "}\n",
    "\n",
    "df = pd.DataFrame(data)\n",
    "\n",
    "# Aggregating the required totals for the top 5 clients\n",
    "summary_df = df.groupby('client_id').agg(\n",
    "    total_units_purchased=('qty', 'sum'),\n",
    "    total_shipping_price=('shipping_price', 'sum'),\n",
    "    total_revenue=('line_price', 'sum'),\n",
    "    total_profit=('line_profit', 'sum')\n",
    ").reset_index()\n",
    "\n",
    "# Displaying the summary DataFrame\n",
    "print(summary_df)\n"
   ]
  },
  {
   "cell_type": "code",
   "execution_count": null,
   "id": "7be02867",
   "metadata": {},
   "outputs": [],
   "source": [
    "# Format the data and rename the columns to names suitable for presentation.\n",
    "def convert_to_millions(howard_df, columns):\n",
    "    # Copy the DataFrame to avoid modifying the original DataFrame\n",
    "    howard_df_copy = howard_df.copy()\n",
    "    \n",
    "    # Convert specified columns to millions\n",
    "    for col in columns:\n",
    "        howard_df_copy[col] = howard_df_copy[col] / 1_000_000\n",
    "    \n",
    "    return howard_df_copy  # Return the modified DataFrame\n",
    "\n",
    "# Function to format money columns as millions\n",
    "def currency_to_millions(value):\n",
    "    return f'${value:.2f}M'\n",
    "\n",
    "# Creating the DataFrame from the provided HTML table data\n",
    "data = {\n",
    "    'Client ID': [33615, 66037, 46820, 38378, 24741],\n",
    "    'Units': [64313, 43018, 75768, 73667, 239862],\n",
    "    'Shipping (millions)': [1.828985, 1.395152, 1.601449, 3.429455, 5.126448],\n",
    "    'Total Revenue (millions)': [8.377309, 10.259515, 9.743794, 12.906551, 82.268892],\n",
    "    'Total Cost (millions)': [6.175314, 7.004483, 7.007192, 9.634721, 45.688900],\n",
    "    'Total Profit (millions)': [2.201995, 3.255032, 2.736603, 3.271830, 36.579992]\n",
    "}\n",
    "\n",
    "howard_df = pd.DataFrame(data)\n",
    "\n",
    "# Define the money columns\n",
    "money_columns = [\n",
    "    'Shipping (millions)',\n",
    "    'Total Revenue (millions)',\n",
    "    'Total Cost (millions)',\n",
    "    'Total Profit (millions)'\n",
    "]\n",
    "\n",
    "# Apply the convert_to_millions function to the money columns\n",
    "howard_df = convert_to_millions(howard_df, money_columns)\n",
    "\n",
    "# Apply the currency_format_millions function to only the money columns\n",
    "formatted_df = howard_df.copy()  \n",
    "formatted_df[['Shipping (millions)', 'Total Revenue (millions)', 'Total Cost (millions)', 'Total Profit (millions)']] = formatted_df[['Shipping (millions)', 'Total Revenue (millions)', 'Total Cost (millions)', 'Total Profit (millions)']].applymap(currency_format_millions)\n",
    "\n",
    "# Display the formatted DataFrame\n",
    "formatted_df.head()\n",
    "\n",
    "# # Rename the columns to reflect the change in the money format\n",
    "formatted_df = formatted_df.rename(columns={\n",
    "    'Shipping (millions)': 'Total Shipping Price (millions)',\n",
    "    'Total Revenue (millions)': 'Total Revenue (millions)',\n",
    "    'Total Cost (millions)': 'Total Cost (millions)',\n",
    "    'Total Profit (millions)': 'Total Profit (millions)'\n",
    "})\n"
   ]
  },
  {
   "cell_type": "code",
   "execution_count": null,
   "id": "8ead0986",
   "metadata": {},
   "outputs": [
    {
     "name": "stdout",
     "output_type": "stream",
     "text": [
      "Sorted DataFrame:\n",
      "   Client ID   Units  Shipping (millions)  Total Revenue (millions)  \\\n",
      "0      24741  239862             5.126448                 82.268892   \n",
      "1      38378   73667             3.429455                 12.906551   \n",
      "2      66037   43018             1.395152                 10.259515   \n",
      "3      46820   75768             1.601449                  9.743794   \n",
      "4      33615   64313             1.828985                  8.377309   \n",
      "\n",
      "   Total Cost (millions)  Total Profit (millions)  \n",
      "0              45.688900                36.579992  \n",
      "1               9.634721                 3.271830  \n",
      "2               7.004483                 3.255032  \n",
      "3               7.007192                 2.736603  \n",
      "4               6.175314                 2.201995  \n"
     ]
    }
   ],
   "source": [
    "# Sort the updated data by \"Total Profit (millions)\" form highest to lowest and assign the sort to a new DatFrame.\n",
    "\n",
    "data = {\n",
    "    'Client ID': [24741, 38378, 66037, 46820, 33615],\n",
    "    'Units': [239862, 73667, 43018, 75768, 64313],\n",
    "    'Shipping (millions)': [5.126448, 3.429455, 1.395152, 1.601449, 1.828985],\n",
    "    'Total Revenue (millions)': [82.268892, 12.906551, 10.259515, 9.743794, 8.377309],\n",
    "    'Total Cost (millions)': [45.688900, 9.634721, 7.004483, 7.007192, 6.175314],\n",
    "    'Total Profit (millions)': [36.579992, 3.271830, 3.255032, 2.736603, 2.201995]\n",
    "}\n",
    "\n",
    "final_client_df = pd.DataFrame(data)\n",
    "\n",
    "# Sort the DataFrame by \"Total Profit (millions)\" from highest to lowest\n",
    "sorted_df = final_client_df.sort_values(by='Total Profit (millions)', ascending=False)\n",
    "\n",
    "# Display the sorted DataFrame\n",
    "print(\"Sorted DataFrame:\")\n",
    "print(sorted_df)\n"
   ]
  },
  {
   "cell_type": "code",
   "execution_count": null,
   "id": "1a56ead1",
   "metadata": {},
   "outputs": [],
   "source": [
    "# Brief Summary and Analysis\n",
    "The final sorted DataFrame presents data sorted by client ID, revealing key metrics including units sold, shipping costs,\n",
    "total revenue, total cost, and total profit in millions. Client ID 24741 notably stands out with the highest units\n",
    "sold and significant total profit. However, other clients exhibit varying levels of performance across these metrics.\n",
    "While higher units sold generally align with increased total revenue and profit, some clients demonstrate comparatively lower revenue despite substantial units sold.\n",
    "\n",
    "\n",
    "\n",
    "\n",
    "\n",
    "\n",
    "\n",
    "\n",
    "\n",
    "\n",
    "\n",
    "\n",
    "\n"
   ]
  }
 ],
 "metadata": {
  "kernelspec": {
   "display_name": "Python 3 (ipykernel)",
   "language": "python",
   "name": "python3"
  },
  "language_info": {
   "codemirror_mode": {
    "name": "ipython",
    "version": 3
   },
   "file_extension": ".py",
   "mimetype": "text/x-python",
   "name": "python",
   "nbconvert_exporter": "python",
   "pygments_lexer": "ipython3",
   "version": "3.11.7"
  }
 },
 "nbformat": 4,
 "nbformat_minor": 5
}
